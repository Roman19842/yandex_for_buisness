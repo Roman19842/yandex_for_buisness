{
 "cells": [
  {
   "cell_type": "markdown",
   "id": "b0bcb326",
   "metadata": {},
   "source": [
    "Привет, меня зовут Артем Хуршудов. Сегодня я проверю твой проект.\n",
    "<br> Дальнейшее общение будет происходить на \"ты\" если это не вызывает никаких проблем.\n",
    "<br> Желательно реагировать на каждый мой комментарий ('исправил', 'не понятно как исправить ошибку', ...)\n",
    "<br> Пожалуйста, не удаляй комментарии ревьюера, так как они повышают качество повторного ревью.\n",
    "\n",
    "Комментарии будут в <font color='green'>зеленой</font>, <font color='blue'>синей</font> или <font color='red'>красной</font> рамках:\n",
    "\n",
    "<div class=\"alert alert-block alert-success\">\n",
    "<b>Успех:</b> Если все сделано отлично\n",
    "</div>\n",
    "\n",
    "<div class=\"alert alert-block alert-info\">\n",
    "<b>Совет: </b> Если можно немного улучшить\n",
    "</div>\n",
    "\n",
    "<div class=\"alert alert-block alert-danger\">\n",
    "<b>Ошибка:</b> Если требуются исправления. Работа не может быть принята с красными комментариями.\n",
    "</div>\n",
    "\n",
    "-------------------\n",
    "\n",
    "Будет очень хорошо, если ты будешь помечать свои действия следующим образом:\n",
    "<div class=\"alert alert-block alert-warning\">\n",
    "<b>Комментарий студента:</b> Привет !Можно на ты. Я роман.\n",
    "</div>\n",
    "\n",
    "<div class=\"alert alert-block alert-warning\">\n",
    "<b>Изменения:</b> Были внесены следующие изменения ...\n",
    "</div>\n",
    "\n",
    "### <font color='orange'>Общее впечатление</font>\n",
    "* Большое спасибо за проделанную работу. Видно, что приложено много усилий.\n",
    "* Над этим проектом нужно будет еще немного поработать. Однако, изменения не должны занять много времени.\n",
    "* В работе я оставил несколько советов. Буду рад, если ты учтешь их.\n",
    "* С радостью отвечу на твои вопросы, если они есть. Лучше всего их собрать в следующей ячейке. Жду новую версию проекта."
   ]
  },
  {
   "cell_type": "markdown",
   "id": "7c56efd4",
   "metadata": {
    "toc": true
   },
   "source": [
    "<h1>Table of Contents<span class=\"tocSkip\"></span></h1>\n",
    "<div class=\"toc\"><ul class=\"toc-item\"><li><ul class=\"toc-item\"><li><span><a href=\"#Общее-впечатление\" data-toc-modified-id=\"Общее-впечатление-0.1\"><span class=\"toc-item-num\">0.1&nbsp;&nbsp;</span><font color=\"orange\">Общее впечатление</font></a></span></li></ul></li><li><span><a href=\"#Загрузим-данные-и-изучим-их\" data-toc-modified-id=\"Загрузим-данные-и-изучим-их-1\"><span class=\"toc-item-num\">1&nbsp;&nbsp;</span>Загрузим данные и изучим их</a></span><ul class=\"toc-item\"><li><span><a href=\"#регион-0\" data-toc-modified-id=\"регион-0-1.1\"><span class=\"toc-item-num\">1.1&nbsp;&nbsp;</span>регион 0</a></span></li><li><span><a href=\"#регион-1\" data-toc-modified-id=\"регион-1-1.2\"><span class=\"toc-item-num\">1.2&nbsp;&nbsp;</span>регион 1</a></span></li><li><span><a href=\"#регион-2\" data-toc-modified-id=\"регион-2-1.3\"><span class=\"toc-item-num\">1.3&nbsp;&nbsp;</span>регион 2</a></span></li><li><span><a href=\"#описание-данных\" data-toc-modified-id=\"описание-данных-1.4\"><span class=\"toc-item-num\">1.4&nbsp;&nbsp;</span>описание данных</a></span></li></ul></li><li><span><a href=\"#Обучим--и-проверим-модель-для-каждого-региона\" data-toc-modified-id=\"Обучим--и-проверим-модель-для-каждого-региона-2\"><span class=\"toc-item-num\">2&nbsp;&nbsp;</span>Обучим  и проверим модель для каждого региона</a></span><ul class=\"toc-item\"><li><span><a href=\"#регион-0\" data-toc-modified-id=\"регион-0-2.1\"><span class=\"toc-item-num\">2.1&nbsp;&nbsp;</span>регион 0</a></span><ul class=\"toc-item\"><li><span><a href=\"#Разобьём-данные-на-обучающую-и-валидационную-выборки-в-соотношении-75:25\" data-toc-modified-id=\"Разобьём-данные-на-обучающую-и-валидационную-выборки-в-соотношении-75:25-2.1.1\"><span class=\"toc-item-num\">2.1.1&nbsp;&nbsp;</span>Разобьём данные на обучающую и валидационную выборки в соотношении 75:25</a></span></li><li><span><a href=\"#Обучим-модель-и-сделаем-предсказания-на-валидационной-выборке.\" data-toc-modified-id=\"Обучим-модель-и-сделаем-предсказания-на-валидационной-выборке.-2.1.2\"><span class=\"toc-item-num\">2.1.2&nbsp;&nbsp;</span>Обучим модель и сделаем предсказания на валидационной выборке.</a></span></li></ul></li><li><span><a href=\"#регион-1\" data-toc-modified-id=\"регион-1-2.2\"><span class=\"toc-item-num\">2.2&nbsp;&nbsp;</span>регион 1</a></span><ul class=\"toc-item\"><li><span><a href=\"#Разобьём-данные-на-обучающую-и-валидационную-выборки-в-соотношении-75:25\" data-toc-modified-id=\"Разобьём-данные-на-обучающую-и-валидационную-выборки-в-соотношении-75:25-2.2.1\"><span class=\"toc-item-num\">2.2.1&nbsp;&nbsp;</span>Разобьём данные на обучающую и валидационную выборки в соотношении 75:25</a></span></li><li><span><a href=\"#Обучим-модель-и-сделаем-предсказания-на-валидационной-выборке.\" data-toc-modified-id=\"Обучим-модель-и-сделаем-предсказания-на-валидационной-выборке.-2.2.2\"><span class=\"toc-item-num\">2.2.2&nbsp;&nbsp;</span>Обучим модель и сделаем предсказания на валидационной выборке.</a></span></li></ul></li><li><span><a href=\"#регион-2\" data-toc-modified-id=\"регион-2-2.3\"><span class=\"toc-item-num\">2.3&nbsp;&nbsp;</span>регион 2</a></span><ul class=\"toc-item\"><li><span><a href=\"#Разобьём-данные-на-обучающую-и-валидационную-выборки-в-соотношении-75:25\" data-toc-modified-id=\"Разобьём-данные-на-обучающую-и-валидационную-выборки-в-соотношении-75:25-2.3.1\"><span class=\"toc-item-num\">2.3.1&nbsp;&nbsp;</span>Разобьём данные на обучающую и валидационную выборки в соотношении 75:25</a></span></li><li><span><a href=\"#Обучим-модель-и-сделаем-предсказания-на-валидационной-выборке.\" data-toc-modified-id=\"Обучим-модель-и-сделаем-предсказания-на-валидационной-выборке.-2.3.2\"><span class=\"toc-item-num\">2.3.2&nbsp;&nbsp;</span>Обучим модель и сделаем предсказания на валидационной выборке.</a></span></li></ul></li></ul></li><li><span><a href=\"#Подготовим--к-расчёту-прибыли\" data-toc-modified-id=\"Подготовим--к-расчёту-прибыли-3\"><span class=\"toc-item-num\">3&nbsp;&nbsp;</span>Подготовим  к расчёту прибыли</a></span><ul class=\"toc-item\"><li><ul class=\"toc-item\"><li><span><a href=\"#расчитаем-достаточный-объём-сырья-для-безубыточной-разработки-новой-скважины\" data-toc-modified-id=\"расчитаем-достаточный-объём-сырья-для-безубыточной-разработки-новой-скважины-3.0.1\"><span class=\"toc-item-num\">3.0.1&nbsp;&nbsp;</span>расчитаем достаточный объём сырья для безубыточной разработки новой скважины</a></span></li></ul></li></ul></li><li><span><a href=\"#Напишим-функцию-для-расчёта-прибыли-по-выбранным-скважинам-и-предсказаниям-модели\" data-toc-modified-id=\"Напишим-функцию-для-расчёта-прибыли-по-выбранным-скважинам-и-предсказаниям-модели-4\"><span class=\"toc-item-num\">4&nbsp;&nbsp;</span>Напишим функцию для расчёта прибыли по выбранным скважинам и предсказаниям модели</a></span></li><li><span><a href=\"#Посчитаем-риски-и-прибыль-для-каждого-региона:\" data-toc-modified-id=\"Посчитаем-риски-и-прибыль-для-каждого-региона:-5\"><span class=\"toc-item-num\">5&nbsp;&nbsp;</span>Посчитаем риски и прибыль для каждого региона:</a></span><ul class=\"toc-item\"><li><span><a href=\"#Применим-технику-Bootstrap-с-1000-выборок,-чтобы-найти-распределение-прибыли.\" data-toc-modified-id=\"Применим-технику-Bootstrap-с-1000-выборок,-чтобы-найти-распределение-прибыли.-5.1\"><span class=\"toc-item-num\">5.1&nbsp;&nbsp;</span>Применим технику Bootstrap с 1000 выборок, чтобы найти распределение прибыли.</a></span></li><li><span><a href=\"#Найдём-среднюю-прибыль,-95%-й-доверительный-интервал-и-риск-убытков.-Убыток-—-это-отрицательная-прибыль.\" data-toc-modified-id=\"Найдём-среднюю-прибыль,-95%-й-доверительный-интервал-и-риск-убытков.-Убыток-—-это-отрицательная-прибыль.-5.2\"><span class=\"toc-item-num\">5.2&nbsp;&nbsp;</span>Найдём среднюю прибыль, 95%-й доверительный интервал и риск убытков. Убыток — это отрицательная прибыль.</a></span><ul class=\"toc-item\"><li><span><a href=\"#регион-0\" data-toc-modified-id=\"регион-0-5.2.1\"><span class=\"toc-item-num\">5.2.1&nbsp;&nbsp;</span>регион 0</a></span></li><li><span><a href=\"#регион-1\" data-toc-modified-id=\"регион-1-5.2.2\"><span class=\"toc-item-num\">5.2.2&nbsp;&nbsp;</span>регион 1</a></span></li><li><span><a href=\"#регион-2\" data-toc-modified-id=\"регион-2-5.2.3\"><span class=\"toc-item-num\">5.2.3&nbsp;&nbsp;</span>регион 2</a></span></li></ul></li></ul></li><li><span><a href=\"#Вывод:\" data-toc-modified-id=\"Вывод:-6\"><span class=\"toc-item-num\">6&nbsp;&nbsp;</span>Вывод:</a></span></li></ul></div>"
   ]
  },
  {
   "cell_type": "markdown",
   "id": "3ea76568",
   "metadata": {},
   "source": [
    "# Цель проекта"
   ]
  },
  {
   "cell_type": "markdown",
   "id": "232fe0e6",
   "metadata": {},
   "source": [
    "*Нам предоставлены пробы нефти в трёх регионах. Характеристики для каждой скважины в регионе уже известны. Построим модель для определения региона, где добыча принесёт наибольшую прибыль. Проанализируем возможную прибыль и риски техникой Bootstrap.*"
   ]
  },
  {
   "cell_type": "markdown",
   "id": "cadbf0d9",
   "metadata": {},
   "source": [
    "## Загрузим данные и изучим их\n"
   ]
  },
  {
   "cell_type": "code",
   "execution_count": 1,
   "id": "43004f88",
   "metadata": {},
   "outputs": [],
   "source": [
    "import pandas as pd\n",
    "from sklearn.model_selection import train_test_split\n",
    "from sklearn.linear_model import LinearRegression\n",
    "from sklearn.metrics import mean_squared_error\n",
    "from sklearn.preprocessing import StandardScaler\n",
    "import numpy as np\n",
    "from scipy import stats as st"
   ]
  },
  {
   "cell_type": "markdown",
   "id": "384434b8",
   "metadata": {},
   "source": [
    "Загрузим данные трёх регионов."
   ]
  },
  {
   "cell_type": "markdown",
   "id": "df618b1c",
   "metadata": {},
   "source": [
    "<div class=\"alert alert-block alert-success\">\n",
    "<b>Успех:</b> Отлично, что все импорты собраны в первой ячейке ноутбука! Если у того, кто будет запускать твой ноутбук будут отсутствовать некоторые библиотеки, то он это увидит сразу, а не в процессе!\n",
    "</div>"
   ]
  },
  {
   "cell_type": "markdown",
   "id": "48b9e219",
   "metadata": {},
   "source": [
    "### регион 0"
   ]
  },
  {
   "cell_type": "code",
   "execution_count": 2,
   "id": "3ca6c683",
   "metadata": {},
   "outputs": [],
   "source": [
    "reg_0=pd.read_csv('/datasets/geo_data_0.csv')#/datasets/geo_data_0.csv"
   ]
  },
  {
   "cell_type": "code",
   "execution_count": 3,
   "id": "6a97afd4",
   "metadata": {},
   "outputs": [
    {
     "data": {
      "text/html": [
       "<div>\n",
       "<style scoped>\n",
       "    .dataframe tbody tr th:only-of-type {\n",
       "        vertical-align: middle;\n",
       "    }\n",
       "\n",
       "    .dataframe tbody tr th {\n",
       "        vertical-align: top;\n",
       "    }\n",
       "\n",
       "    .dataframe thead th {\n",
       "        text-align: right;\n",
       "    }\n",
       "</style>\n",
       "<table border=\"1\" class=\"dataframe\">\n",
       "  <thead>\n",
       "    <tr style=\"text-align: right;\">\n",
       "      <th></th>\n",
       "      <th>id</th>\n",
       "      <th>f0</th>\n",
       "      <th>f1</th>\n",
       "      <th>f2</th>\n",
       "      <th>product</th>\n",
       "    </tr>\n",
       "  </thead>\n",
       "  <tbody>\n",
       "    <tr>\n",
       "      <th>0</th>\n",
       "      <td>txEyH</td>\n",
       "      <td>0.705745</td>\n",
       "      <td>-0.497823</td>\n",
       "      <td>1.221170</td>\n",
       "      <td>105.280062</td>\n",
       "    </tr>\n",
       "    <tr>\n",
       "      <th>1</th>\n",
       "      <td>2acmU</td>\n",
       "      <td>1.334711</td>\n",
       "      <td>-0.340164</td>\n",
       "      <td>4.365080</td>\n",
       "      <td>73.037750</td>\n",
       "    </tr>\n",
       "    <tr>\n",
       "      <th>2</th>\n",
       "      <td>409Wp</td>\n",
       "      <td>1.022732</td>\n",
       "      <td>0.151990</td>\n",
       "      <td>1.419926</td>\n",
       "      <td>85.265647</td>\n",
       "    </tr>\n",
       "    <tr>\n",
       "      <th>3</th>\n",
       "      <td>iJLyR</td>\n",
       "      <td>-0.032172</td>\n",
       "      <td>0.139033</td>\n",
       "      <td>2.978566</td>\n",
       "      <td>168.620776</td>\n",
       "    </tr>\n",
       "    <tr>\n",
       "      <th>4</th>\n",
       "      <td>Xdl7t</td>\n",
       "      <td>1.988431</td>\n",
       "      <td>0.155413</td>\n",
       "      <td>4.751769</td>\n",
       "      <td>154.036647</td>\n",
       "    </tr>\n",
       "  </tbody>\n",
       "</table>\n",
       "</div>"
      ],
      "text/plain": [
       "      id        f0        f1        f2     product\n",
       "0  txEyH  0.705745 -0.497823  1.221170  105.280062\n",
       "1  2acmU  1.334711 -0.340164  4.365080   73.037750\n",
       "2  409Wp  1.022732  0.151990  1.419926   85.265647\n",
       "3  iJLyR -0.032172  0.139033  2.978566  168.620776\n",
       "4  Xdl7t  1.988431  0.155413  4.751769  154.036647"
      ]
     },
     "execution_count": 3,
     "metadata": {},
     "output_type": "execute_result"
    }
   ],
   "source": [
    "reg_0.head()"
   ]
  },
  {
   "cell_type": "code",
   "execution_count": 4,
   "id": "1eda3c5e",
   "metadata": {},
   "outputs": [
    {
     "name": "stdout",
     "output_type": "stream",
     "text": [
      "<class 'pandas.core.frame.DataFrame'>\n",
      "RangeIndex: 100000 entries, 0 to 99999\n",
      "Data columns (total 5 columns):\n",
      " #   Column   Non-Null Count   Dtype  \n",
      "---  ------   --------------   -----  \n",
      " 0   id       100000 non-null  object \n",
      " 1   f0       100000 non-null  float64\n",
      " 2   f1       100000 non-null  float64\n",
      " 3   f2       100000 non-null  float64\n",
      " 4   product  100000 non-null  float64\n",
      "dtypes: float64(4), object(1)\n",
      "memory usage: 3.8+ MB\n"
     ]
    }
   ],
   "source": [
    "reg_0.info()"
   ]
  },
  {
   "cell_type": "markdown",
   "id": "729f74ef",
   "metadata": {},
   "source": [
    "Пропущенных значений нет, данные однотипные. "
   ]
  },
  {
   "cell_type": "markdown",
   "id": "a4f36497",
   "metadata": {},
   "source": [
    "### регион 1\n"
   ]
  },
  {
   "cell_type": "code",
   "execution_count": 5,
   "id": "a511c0f1",
   "metadata": {},
   "outputs": [],
   "source": [
    "reg_1=pd.read_csv('/datasets/geo_data_1.csv')#/datasets/geo_data_1.csv"
   ]
  },
  {
   "cell_type": "code",
   "execution_count": 6,
   "id": "3df638ad",
   "metadata": {},
   "outputs": [
    {
     "name": "stdout",
     "output_type": "stream",
     "text": [
      "<class 'pandas.core.frame.DataFrame'>\n",
      "RangeIndex: 100000 entries, 0 to 99999\n",
      "Data columns (total 5 columns):\n",
      " #   Column   Non-Null Count   Dtype  \n",
      "---  ------   --------------   -----  \n",
      " 0   id       100000 non-null  object \n",
      " 1   f0       100000 non-null  float64\n",
      " 2   f1       100000 non-null  float64\n",
      " 3   f2       100000 non-null  float64\n",
      " 4   product  100000 non-null  float64\n",
      "dtypes: float64(4), object(1)\n",
      "memory usage: 3.8+ MB\n"
     ]
    }
   ],
   "source": [
    "reg_1.info()"
   ]
  },
  {
   "cell_type": "markdown",
   "id": "8011b292",
   "metadata": {},
   "source": [
    "### регион 2"
   ]
  },
  {
   "cell_type": "code",
   "execution_count": 7,
   "id": "8b558fd2",
   "metadata": {},
   "outputs": [],
   "source": [
    "reg_2 = pd.read_csv('/datasets/geo_data_2.csv')#/datasets/geo_data_2.csv"
   ]
  },
  {
   "cell_type": "code",
   "execution_count": 8,
   "id": "492015a6",
   "metadata": {},
   "outputs": [
    {
     "name": "stdout",
     "output_type": "stream",
     "text": [
      "<class 'pandas.core.frame.DataFrame'>\n",
      "RangeIndex: 100000 entries, 0 to 99999\n",
      "Data columns (total 5 columns):\n",
      " #   Column   Non-Null Count   Dtype  \n",
      "---  ------   --------------   -----  \n",
      " 0   id       100000 non-null  object \n",
      " 1   f0       100000 non-null  float64\n",
      " 2   f1       100000 non-null  float64\n",
      " 3   f2       100000 non-null  float64\n",
      " 4   product  100000 non-null  float64\n",
      "dtypes: float64(4), object(1)\n",
      "memory usage: 3.8+ MB\n"
     ]
    }
   ],
   "source": [
    "reg_2.info()"
   ]
  },
  {
   "cell_type": "markdown",
   "id": "b2a15870",
   "metadata": {},
   "source": [
    "### описание данных"
   ]
  },
  {
   "cell_type": "markdown",
   "id": "290284dc",
   "metadata": {},
   "source": [
    "`id` — уникальный идентификатор скважины;\n",
    "`f0, f1, f2` — три признака точек (неважно, что они означают, но сами признаки значимы);\n",
    "`product` — объём запасов в скважине (тыс. баррелей)."
   ]
  },
  {
   "cell_type": "markdown",
   "id": "2246530e",
   "metadata": {},
   "source": [
    "`id` столбец для построения модели нам не нужен, поэтому мы не будем его использовать. `f0, f1, f2`-это наши признаки(features),`product`-это цель(target)"
   ]
  },
  {
   "cell_type": "markdown",
   "id": "7f7564fa",
   "metadata": {},
   "source": [
    "<div class=\"alert alert-block alert-success\">\n",
    "<b>Успех:</b> Данные загружены и осмотрены корректно. \n",
    "</div>"
   ]
  },
  {
   "cell_type": "markdown",
   "id": "15371a4d",
   "metadata": {},
   "source": [
    "## Обучим  и проверим модель для каждого региона"
   ]
  },
  {
   "cell_type": "markdown",
   "id": "4383c862",
   "metadata": {},
   "source": [
    "Функция для подготовки данных.Размер валидационных данных составляет 25% от основных данных(согласно заданию)"
   ]
  },
  {
   "cell_type": "code",
   "execution_count": 9,
   "id": "5313b508",
   "metadata": {},
   "outputs": [],
   "source": [
    "def our_split(data):\n",
    "    features=data[['f0','f1','f2']]\n",
    "    target=data['product']\n",
    "    f_train,f_valid,t_train,t_valid = train_test_split(features,target,test_size=0.25,random_state=12345)\n",
    "    return f_train,f_valid,t_train,t_valid"
   ]
  },
  {
   "cell_type": "markdown",
   "id": "8709d8db",
   "metadata": {},
   "source": [
    "### регион 0"
   ]
  },
  {
   "cell_type": "markdown",
   "id": "03d31af2",
   "metadata": {},
   "source": [
    "#### Разобьём данные на обучающую и валидационную выборки в соотношении 75:25"
   ]
  },
  {
   "cell_type": "markdown",
   "id": "336647e5",
   "metadata": {},
   "source": [
    "Нам предстоит разделить даннын для каждого регилна для упрощения задача я написал выше функцию `our_split`, которая выделяет признаки и цель а также делит на обучающую и валидационную выборки наши данный."
   ]
  },
  {
   "cell_type": "code",
   "execution_count": 10,
   "id": "18f80ea9",
   "metadata": {},
   "outputs": [],
   "source": [
    "X_0_train,X_0_valid,y_0_train,y_0_valid = our_split(reg_0)#применяем нашу функцию"
   ]
  },
  {
   "cell_type": "markdown",
   "id": "243b63d9",
   "metadata": {},
   "source": [
    "и получаем на выходе четыре выборки. Проверим их на размер чтобы убедится что функция работает как надо."
   ]
  },
  {
   "cell_type": "code",
   "execution_count": 11,
   "id": "59d31574",
   "metadata": {},
   "outputs": [
    {
     "data": {
      "text/plain": [
       "(75000, 3)"
      ]
     },
     "execution_count": 11,
     "metadata": {},
     "output_type": "execute_result"
    }
   ],
   "source": [
    "X_0_train.shape"
   ]
  },
  {
   "cell_type": "code",
   "execution_count": 12,
   "id": "9370defe",
   "metadata": {},
   "outputs": [
    {
     "data": {
      "text/plain": [
       "(25000, 3)"
      ]
     },
     "execution_count": 12,
     "metadata": {},
     "output_type": "execute_result"
    }
   ],
   "source": [
    "X_0_valid.shape"
   ]
  },
  {
   "cell_type": "code",
   "execution_count": 13,
   "id": "f0f6145a",
   "metadata": {},
   "outputs": [
    {
     "data": {
      "text/plain": [
       "(75000,)"
      ]
     },
     "execution_count": 13,
     "metadata": {},
     "output_type": "execute_result"
    }
   ],
   "source": [
    "y_0_train.shape"
   ]
  },
  {
   "cell_type": "code",
   "execution_count": 14,
   "id": "dfba3fc3",
   "metadata": {},
   "outputs": [
    {
     "data": {
      "text/plain": [
       "(25000,)"
      ]
     },
     "execution_count": 14,
     "metadata": {},
     "output_type": "execute_result"
    }
   ],
   "source": [
    "y_0_valid.shape"
   ]
  },
  {
   "cell_type": "markdown",
   "id": "ab3c975c",
   "metadata": {},
   "source": [
    "Разделение прошло успешно!"
   ]
  },
  {
   "cell_type": "markdown",
   "id": "8617988b",
   "metadata": {},
   "source": [
    "#### Обучим модель и сделаем предсказания на валидационной выборке."
   ]
  },
  {
   "cell_type": "markdown",
   "id": "637e902d",
   "metadata": {},
   "source": [
    "Обучим модель линейная регрессия`LinearRegression` ."
   ]
  },
  {
   "cell_type": "code",
   "execution_count": 15,
   "id": "d0a93864",
   "metadata": {},
   "outputs": [],
   "source": [
    " model_0=LinearRegression()"
   ]
  },
  {
   "cell_type": "code",
   "execution_count": 16,
   "id": "ef7033b0",
   "metadata": {},
   "outputs": [
    {
     "data": {
      "text/plain": [
       "LinearRegression()"
      ]
     },
     "execution_count": 16,
     "metadata": {},
     "output_type": "execute_result"
    }
   ],
   "source": [
    "model_0.fit(X_0_train,y_0_train)"
   ]
  },
  {
   "cell_type": "markdown",
   "id": "4db45bda",
   "metadata": {},
   "source": [
    "Сделаем предсказания на валидационной выборке и сохраним их."
   ]
  },
  {
   "cell_type": "code",
   "execution_count": 17,
   "id": "5166ac84",
   "metadata": {},
   "outputs": [],
   "source": [
    "predict_0=model_0.predict(X_0_valid)"
   ]
  },
  {
   "cell_type": "markdown",
   "id": "a9459ef3",
   "metadata": {},
   "source": [
    "Подсчитаем RMSE"
   ]
  },
  {
   "cell_type": "code",
   "execution_count": 18,
   "id": "b6c073a4",
   "metadata": {},
   "outputs": [
    {
     "data": {
      "text/plain": [
       "37.5794217150813"
      ]
     },
     "execution_count": 18,
     "metadata": {},
     "output_type": "execute_result"
    }
   ],
   "source": [
    "mean_squared_error(y_0_valid, predict_0)**0.5"
   ]
  },
  {
   "cell_type": "markdown",
   "id": "b9121d92",
   "metadata": {},
   "source": [
    "Найдём среднее предсказанной выборке"
   ]
  },
  {
   "cell_type": "code",
   "execution_count": 19,
   "id": "3d809764",
   "metadata": {},
   "outputs": [
    {
     "data": {
      "text/plain": [
       "92.59256778438035"
      ]
     },
     "execution_count": 19,
     "metadata": {},
     "output_type": "execute_result"
    }
   ],
   "source": [
    "predict_0.mean()"
   ]
  },
  {
   "cell_type": "code",
   "execution_count": 20,
   "id": "242f90c9",
   "metadata": {},
   "outputs": [
    {
     "data": {
      "text/plain": [
       "<AxesSubplot:>"
      ]
     },
     "execution_count": 20,
     "metadata": {},
     "output_type": "execute_result"
    },
    {
     "data": {
      "image/png": "[encoded data removed]",
      "text/plain": [
       "<Figure size 432x288 with 1 Axes>"
      ]
     },
     "metadata": {
      "needs_background": "light"
     },
     "output_type": "display_data"
    }
   ],
   "source": [
    "pd.Series(predict_0).hist()"
   ]
  },
  {
   "cell_type": "markdown",
   "id": "a2b930ef",
   "metadata": {},
   "source": [
    "Среднее для валидационых данных "
   ]
  },
  {
   "cell_type": "code",
   "execution_count": 21,
   "id": "d3417783",
   "metadata": {},
   "outputs": [
    {
     "data": {
      "text/plain": [
       "92.07859674082941"
      ]
     },
     "execution_count": 21,
     "metadata": {},
     "output_type": "execute_result"
    }
   ],
   "source": [
    "y_0_valid.mean()"
   ]
  },
  {
   "cell_type": "code",
   "execution_count": 22,
   "id": "2b9f8f8e",
   "metadata": {},
   "outputs": [
    {
     "data": {
      "text/plain": [
       "<AxesSubplot:>"
      ]
     },
     "execution_count": 22,
     "metadata": {},
     "output_type": "execute_result"
    },
    {
     "data": {
      "image/png": "[encoded data removed]",
      "text/plain": [
       "<Figure size 432x288 with 1 Axes>"
      ]
     },
     "metadata": {
      "needs_background": "light"
     },
     "output_type": "display_data"
    }
   ],
   "source": [
    "y_0_valid.hist()"
   ]
  },
  {
   "cell_type": "markdown",
   "id": "b684f092",
   "metadata": {},
   "source": [
    "**Вывод:RMSE модели для региона_0 равен 37.579.среднее арифметическое для предсказаний и действительных данных близки. Что говорит о том что модель адекватная.По распределению данных видно что модель предсказывает значения прибиженные к устредёному**"
   ]
  },
  {
   "cell_type": "markdown",
   "id": "5ef16419",
   "metadata": {},
   "source": [
    "### регион 1"
   ]
  },
  {
   "cell_type": "markdown",
   "id": "06e94c14",
   "metadata": {},
   "source": [
    "Проделаем тоже самое для региона 1"
   ]
  },
  {
   "cell_type": "markdown",
   "id": "d471d098",
   "metadata": {},
   "source": [
    "#### Разобьём данные на обучающую и валидационную выборки в соотношении 75:25"
   ]
  },
  {
   "cell_type": "code",
   "execution_count": 23,
   "id": "720d0861",
   "metadata": {},
   "outputs": [],
   "source": [
    "X_1_train,X_1_valid,y_1_train,y_1_valid = our_split(reg_1)"
   ]
  },
  {
   "cell_type": "markdown",
   "id": "969089b8",
   "metadata": {},
   "source": [
    "#### Обучим модель и сделаем предсказания на валидационной выборке."
   ]
  },
  {
   "cell_type": "code",
   "execution_count": 24,
   "id": "041c7484",
   "metadata": {},
   "outputs": [],
   "source": [
    " model_1=LinearRegression()"
   ]
  },
  {
   "cell_type": "code",
   "execution_count": 25,
   "id": "54ce27a1",
   "metadata": {},
   "outputs": [
    {
     "data": {
      "text/plain": [
       "LinearRegression()"
      ]
     },
     "execution_count": 25,
     "metadata": {},
     "output_type": "execute_result"
    }
   ],
   "source": [
    "model_1.fit(X_1_train,y_1_train)"
   ]
  },
  {
   "cell_type": "code",
   "execution_count": 26,
   "id": "66e01238",
   "metadata": {},
   "outputs": [],
   "source": [
    "predict_1=model_1.predict(X_1_valid)"
   ]
  },
  {
   "cell_type": "markdown",
   "id": "35c6a2ea",
   "metadata": {},
   "source": [
    "RMSE для второй модели."
   ]
  },
  {
   "cell_type": "code",
   "execution_count": 27,
   "id": "3041b3ba",
   "metadata": {},
   "outputs": [
    {
     "data": {
      "text/plain": [
       "0.8930992867756168"
      ]
     },
     "execution_count": 27,
     "metadata": {},
     "output_type": "execute_result"
    }
   ],
   "source": [
    "mean_squared_error(y_1_valid, predict_1)**0.5"
   ]
  },
  {
   "cell_type": "markdown",
   "id": "64804c49",
   "metadata": {},
   "source": [
    "Средне значение запасов по предсказанию"
   ]
  },
  {
   "cell_type": "code",
   "execution_count": 28,
   "id": "c9f5c89a",
   "metadata": {},
   "outputs": [
    {
     "data": {
      "text/plain": [
       "68.728546895446"
      ]
     },
     "execution_count": 28,
     "metadata": {},
     "output_type": "execute_result"
    }
   ],
   "source": [
    "predict_1.mean()"
   ]
  },
  {
   "cell_type": "markdown",
   "id": "c6f42517",
   "metadata": {},
   "source": [
    "Среднее значение по факту"
   ]
  },
  {
   "cell_type": "code",
   "execution_count": 29,
   "id": "bc30adfa",
   "metadata": {},
   "outputs": [
    {
     "data": {
      "text/plain": [
       "68.72313602437494"
      ]
     },
     "execution_count": 29,
     "metadata": {},
     "output_type": "execute_result"
    }
   ],
   "source": [
    "y_1_valid.mean()"
   ]
  },
  {
   "cell_type": "markdown",
   "id": "4f8663f5",
   "metadata": {},
   "source": [
    "**Вывод: модель для данного региона предсказывает намного лучше первой и RMSE равен 0.893!Что говорит о том что данные очень хорошие, но среднее запасы нефте в этом регионе меньше чем в регионе 0."
   ]
  },
  {
   "cell_type": "markdown",
   "id": "28fe41d2",
   "metadata": {},
   "source": [
    "### регион 2"
   ]
  },
  {
   "cell_type": "markdown",
   "id": "e86ad64a",
   "metadata": {},
   "source": [
    "#### Разобьём данные на обучающую и валидационную выборки в соотношении 75:25"
   ]
  },
  {
   "cell_type": "code",
   "execution_count": 30,
   "id": "c43f4198",
   "metadata": {},
   "outputs": [],
   "source": [
    "X_2_train,X_2_valid,y_2_train,y_2_valid = our_split(reg_2)"
   ]
  },
  {
   "cell_type": "markdown",
   "id": "2f6a5f9b",
   "metadata": {},
   "source": [
    "#### Обучим модель и сделаем предсказания на валидационной выборке."
   ]
  },
  {
   "cell_type": "code",
   "execution_count": 31,
   "id": "f6dd02ae",
   "metadata": {},
   "outputs": [],
   "source": [
    "model_2=LinearRegression()"
   ]
  },
  {
   "cell_type": "code",
   "execution_count": 32,
   "id": "4af309f6",
   "metadata": {},
   "outputs": [
    {
     "data": {
      "text/plain": [
       "LinearRegression()"
      ]
     },
     "execution_count": 32,
     "metadata": {},
     "output_type": "execute_result"
    }
   ],
   "source": [
    "model_2.fit(X_2_train,y_2_train)"
   ]
  },
  {
   "cell_type": "code",
   "execution_count": 33,
   "id": "42eae066",
   "metadata": {},
   "outputs": [],
   "source": [
    "predict_2=model_2.predict(X_2_valid)"
   ]
  },
  {
   "cell_type": "code",
   "execution_count": 34,
   "id": "5b4939d2",
   "metadata": {},
   "outputs": [
    {
     "data": {
      "text/plain": [
       "40.02970873393434"
      ]
     },
     "execution_count": 34,
     "metadata": {},
     "output_type": "execute_result"
    }
   ],
   "source": [
    "mean_squared_error(y_2_valid, predict_2)**0.5"
   ]
  },
  {
   "cell_type": "code",
   "execution_count": 35,
   "id": "2c7bb112",
   "metadata": {},
   "outputs": [
    {
     "data": {
      "text/plain": [
       "94.96504596800489"
      ]
     },
     "execution_count": 35,
     "metadata": {},
     "output_type": "execute_result"
    }
   ],
   "source": [
    "predict_2.mean()"
   ]
  },
  {
   "cell_type": "code",
   "execution_count": 36,
   "id": "010e84f6",
   "metadata": {},
   "outputs": [
    {
     "data": {
      "text/plain": [
       "94.88423280885489"
      ]
     },
     "execution_count": 36,
     "metadata": {},
     "output_type": "execute_result"
    }
   ],
   "source": [
    "y_2_valid.mean()"
   ]
  },
  {
   "cell_type": "markdown",
   "id": "162eb21e",
   "metadata": {},
   "source": [
    "**Вывод: RMSE = 40, Точность модели желает лучшего.**"
   ]
  },
  {
   "cell_type": "code",
   "execution_count": 37,
   "id": "f5e27238",
   "metadata": {},
   "outputs": [
    {
     "data": {
      "text/plain": [
       "87.61070359610979"
      ]
     },
     "execution_count": 37,
     "metadata": {},
     "output_type": "execute_result"
    }
   ],
   "source": [
    "mean_squared_error(y_2_valid,model_1.predict(X_2_valid))**0.5"
   ]
  },
  {
   "cell_type": "markdown",
   "id": "23b383d4",
   "metadata": {},
   "source": [
    "причём предсказания на лучшей модели(model_1) даёт ещё больше RMSE, говорит о том что проблема с данными а не в модели"
   ]
  },
  {
   "cell_type": "markdown",
   "id": "6a256c93",
   "metadata": {},
   "source": [
    "<div class=\"alert alert-block alert-success\">\n",
    "<b>Успех:</b> Модели обучены корректно.\n",
    "</div>\n",
    "\n",
    "<div class=\"alert alert-block alert-info\">\n",
    "<b>Совет: </b> На протяжении всего проекта происходит работа с 3мя одинаковыми таблицами. В связи с этим можно было использовать функции и/или циклы, чтобы избежать копирования кода.\n",
    "<br> Зачем его нужно избегать? Потому что очень часто оно приводит к ошибкам (например, забыл поменять одну из переменных). Впоследствии такие ошибки очень трудно найти.\n",
    "</div>"
   ]
  },
  {
   "cell_type": "markdown",
   "id": "3b80fe05",
   "metadata": {},
   "source": [
    "## Подготовим  к расчёту прибыли"
   ]
  },
  {
   "cell_type": "markdown",
   "id": "dc7b33ea",
   "metadata": {},
   "source": [
    "Сохраним все ключевае значения в переменные.\n"
   ]
  },
  {
   "cell_type": "markdown",
   "id": "84c94e75",
   "metadata": {},
   "source": [
    "Бюджет 10 млдр. рублей это 10 000 000 тыс.рублей (так будет проще считать и меньше цифр)"
   ]
  },
  {
   "cell_type": "code",
   "execution_count": 38,
   "id": "f9681b5a",
   "metadata": {},
   "outputs": [],
   "source": [
    "budget=10000000 #тыс рублей"
   ]
  },
  {
   "cell_type": "markdown",
   "id": "0949da9a",
   "metadata": {},
   "source": [
    "Доход от  1000 барралей 450000 рублей, так как данные о количестве запасах в тысячах то берём доход для расчётов 450"
   ]
  },
  {
   "cell_type": "code",
   "execution_count": 39,
   "id": "4d4c7733",
   "metadata": {},
   "outputs": [],
   "source": [
    "income = 450 "
   ]
  },
  {
   "cell_type": "markdown",
   "id": "c4b26245",
   "metadata": {},
   "source": [
    "Число скважен для разработки:"
   ]
  },
  {
   "cell_type": "code",
   "execution_count": 40,
   "id": "5b258da2",
   "metadata": {},
   "outputs": [],
   "source": [
    "number_wells=200"
   ]
  },
  {
   "cell_type": "markdown",
   "id": "2100e0fe",
   "metadata": {},
   "source": [
    "Число точек для иследования 500"
   ]
  },
  {
   "cell_type": "code",
   "execution_count": 41,
   "id": "585d0a3a",
   "metadata": {},
   "outputs": [],
   "source": [
    "number_points=500"
   ]
  },
  {
   "cell_type": "markdown",
   "id": "ff119a12",
   "metadata": {},
   "source": [
    "#### расчитаем достаточный объём сырья для безубыточной разработки новой скважины"
   ]
  },
  {
   "cell_type": "markdown",
   "id": "dad201f2",
   "metadata": {},
   "source": [
    "Для расчёта нам необходимо знать стоимость разработки одной скважены- это весь бюджен на регион (10 млрд) на количество скважен что будут разрабатывать(200). Потом посчитать доход о запасов в точке. далее\n",
    "от затрат на разработку отнять доход от предполагаемой добычи. Если данные отрицательные значит точка убыточна нет смысла его разрабатывать."
   ]
  },
  {
   "cell_type": "code",
   "execution_count": 42,
   "id": "6b0a1a4c",
   "metadata": {},
   "outputs": [
    {
     "data": {
      "text/plain": [
       "50000.0"
      ]
     },
     "execution_count": 42,
     "metadata": {},
     "output_type": "execute_result"
    }
   ],
   "source": [
    "budget/number_wells"
   ]
  },
  {
   "cell_type": "code",
   "execution_count": 43,
   "id": "b0605720",
   "metadata": {},
   "outputs": [],
   "source": [
    "budget_one = budget/number_wells"
   ]
  },
  {
   "cell_type": "markdown",
   "id": "e29c1bd4",
   "metadata": {},
   "source": [
    "Доходы от разработки должны превышать 50 млн рублей , тогда скважена не убыточна.\n"
   ]
  },
  {
   "cell_type": "markdown",
   "id": "e0cfcecb",
   "metadata": {},
   "source": [
    "А чтобы узнать количество неубыточных запасов надо `budget_one` разделить на `income` (доход) "
   ]
  },
  {
   "cell_type": "code",
   "execution_count": 44,
   "id": "0a2c41e4",
   "metadata": {},
   "outputs": [
    {
     "data": {
      "text/plain": [
       "111.11111111111111"
      ]
     },
     "execution_count": 44,
     "metadata": {},
     "output_type": "execute_result"
    }
   ],
   "source": [
    "budget_one/income"
   ]
  },
  {
   "cell_type": "markdown",
   "id": "b44a4413",
   "metadata": {},
   "source": [
    "111.11 тыс баррелей неубыточное количество нефти "
   ]
  },
  {
   "cell_type": "code",
   "execution_count": 45,
   "id": "b122b4f2",
   "metadata": {},
   "outputs": [],
   "source": [
    "treshold = budget_one/income"
   ]
  },
  {
   "cell_type": "markdown",
   "id": "4bc63912",
   "metadata": {},
   "source": [
    "Это больше чем среднее арифметическое по запасам в регионах. Посчитаем какую долю такие месторождения\n",
    "составляют по предсказаным моделям "
   ]
  },
  {
   "cell_type": "code",
   "execution_count": 46,
   "id": "ba41d6b9",
   "metadata": {},
   "outputs": [
    {
     "data": {
      "text/plain": [
       "0.21552"
      ]
     },
     "execution_count": 46,
     "metadata": {},
     "output_type": "execute_result"
    }
   ],
   "source": [
    "pd.Series(predict_0).loc[predict_0>treshold].count()/len(predict_0)"
   ]
  },
  {
   "cell_type": "code",
   "execution_count": 47,
   "id": "caa36a6d",
   "metadata": {},
   "outputs": [
    {
     "data": {
      "text/plain": [
       "0.18376"
      ]
     },
     "execution_count": 47,
     "metadata": {},
     "output_type": "execute_result"
    }
   ],
   "source": [
    "pd.Series(predict_1).loc[predict_1>treshold].count()/len(predict_1)"
   ]
  },
  {
   "cell_type": "code",
   "execution_count": 48,
   "id": "1d6ac109",
   "metadata": {},
   "outputs": [
    {
     "data": {
      "text/plain": [
       "0.20936"
      ]
     },
     "execution_count": 48,
     "metadata": {},
     "output_type": "execute_result"
    }
   ],
   "source": [
    "pd.Series(predict_2).loc[predict_2>treshold].count()/len(predict_2)"
   ]
  },
  {
   "cell_type": "markdown",
   "id": "0a26e08b",
   "metadata": {},
   "source": [
    "в среднем 20% в каждом регионе по предсказаниям точек доходны для интереса посчитаем долю на валидационной выборке."
   ]
  },
  {
   "cell_type": "code",
   "execution_count": 49,
   "id": "2a2ad634",
   "metadata": {},
   "outputs": [
    {
     "data": {
      "text/plain": [
       "0.36244"
      ]
     },
     "execution_count": 49,
     "metadata": {},
     "output_type": "execute_result"
    }
   ],
   "source": [
    "(y_0_valid.loc[y_0_valid>treshold]).count()/len(y_0_valid)"
   ]
  },
  {
   "cell_type": "code",
   "execution_count": 50,
   "id": "fd045e7a",
   "metadata": {},
   "outputs": [
    {
     "data": {
      "text/plain": [
       "0.16744"
      ]
     },
     "execution_count": 50,
     "metadata": {},
     "output_type": "execute_result"
    }
   ],
   "source": [
    "(y_1_valid.loc[y_1_valid>treshold]).count()/len(y_1_valid)"
   ]
  },
  {
   "cell_type": "code",
   "execution_count": 51,
   "id": "6a874b0b",
   "metadata": {},
   "outputs": [
    {
     "data": {
      "text/plain": [
       "0.38164"
      ]
     },
     "execution_count": 51,
     "metadata": {},
     "output_type": "execute_result"
    }
   ],
   "source": [
    "(y_2_valid.loc[y_2_valid>treshold]).count()/len(y_2_valid)"
   ]
  },
  {
   "cell_type": "markdown",
   "id": "8d2971e5",
   "metadata": {},
   "source": [
    "Получилось что доля безубыточных скважен у регион_1 приближена к предсказаным(17% и 18%)(помним там и метрики качества модели больше).А у региона 0 и 2 доля неубыточных скаважен по по предсказанимя намного меньше чем по факту! Так мы косвенно оценили качество предсказаний"
   ]
  },
  {
   "cell_type": "markdown",
   "id": "cdc2a2e0",
   "metadata": {},
   "source": [
    "<b>Совет: </b> В названиях константных переменных лучше использовать только БОЛЬШИЕ буквы. Это соглашение между программистами: https://pythonworld.ru/osnovy/pep-8-rukovodstvo-po-napisaniyu-koda-na-python.html#id29 .\n",
    "</div>\n",
    "\n",
    "<div class=\"alert alert-block alert-success\">\n",
    "<b>Успех:</b> Точка безубыточности найдена верно, сравнение проведено!\n",
    "</div>"
   ]
  },
  {
   "cell_type": "markdown",
   "id": "d02c1393",
   "metadata": {},
   "source": [
    "## Напишим функцию для расчёта прибыли по выбранным скважинам и предсказаниям модели"
   ]
  },
  {
   "cell_type": "markdown",
   "id": "45ab11bf",
   "metadata": {},
   "source": [
    "4.1. Выберите скважины с максимальными значениями предсказаний.\n",
    "4.2. Просуммируйте целевое значение объёма сырья, соответствующее этим предсказаниям.\n",
    "4.3. Рассчитайте прибыль для полученного объёма сырья."
   ]
  },
  {
   "cell_type": "code",
   "execution_count": 52,
   "id": "f8fca206",
   "metadata": {},
   "outputs": [],
   "source": [
    "def profit(data,number_wells,income,budget):\n",
    "    best_wells = data['pred'].sort_values(ascending=False)[:number_wells]\n",
    "    sum_best_wells=data['product'].loc[best_wells.index].sum()\n",
    "    #находим сумму предсказанных запасов для number_wells скважен\n",
    "    return (sum_best_wells*income)-budget#умнажаем на доход от одной тыс. баррелей на количество тыс. барралей минус затраты на добычу\n"
   ]
  },
  {
   "cell_type": "markdown",
   "id": "af39a43b",
   "metadata": {},
   "source": [
    "<div class=\"alert alert-block alert-info\">\n",
    "<b>Совет: </b> Эту функцию лучше было бы назвать profit, так как revenue – это выручка.\n",
    "</div>"
   ]
  },
  {
   "cell_type": "markdown",
   "id": "9d276a35",
   "metadata": {},
   "source": [
    "<div class=\"alert alert-block alert-danger\">\n",
    "<b>Ошибка:</b> Для выбора 200 лучших скважин нужно использовать предсказанные значения. А вот для подсчета прибыли должны использоваться настоящие значения соответствующих ячеек.\n",
    "</div>"
   ]
  },
  {
   "cell_type": "markdown",
   "id": "6ce1d425",
   "metadata": {},
   "source": [
    "<div class=\"alert alert-block alert-warning\">\n",
    "<b>Изменения:</b> Поменял название функции Объдинил предсказания и реальные данные.Для использования функции и поменял саму функцию\n",
    "</div>"
   ]
  },
  {
   "cell_type": "markdown",
   "id": "a90cadcd",
   "metadata": {},
   "source": [
    "Проверим работу нащей функии. Передадим ей предсказание по региону 0 `predict_0` возьмём 200 свкажен, передадим цену 1тыс барралей, и бюджет `budget` на добычц в регионе."
   ]
  },
  {
   "cell_type": "code",
   "execution_count": 53,
   "id": "cfcdd60a",
   "metadata": {},
   "outputs": [],
   "source": [
    "prod_and_pred_0 = pd.DataFrame(y_0_valid)\n"
   ]
  },
  {
   "cell_type": "code",
   "execution_count": 54,
   "id": "80dedf07",
   "metadata": {},
   "outputs": [],
   "source": [
    "prod_and_pred_0.insert(loc=1,column='pred',value=predict_0)"
   ]
  },
  {
   "cell_type": "code",
   "execution_count": 55,
   "id": "7c3091e9",
   "metadata": {},
   "outputs": [
    {
     "data": {
      "text/html": [
       "<div>\n",
       "<style scoped>\n",
       "    .dataframe tbody tr th:only-of-type {\n",
       "        vertical-align: middle;\n",
       "    }\n",
       "\n",
       "    .dataframe tbody tr th {\n",
       "        vertical-align: top;\n",
       "    }\n",
       "\n",
       "    .dataframe thead th {\n",
       "        text-align: right;\n",
       "    }\n",
       "</style>\n",
       "<table border=\"1\" class=\"dataframe\">\n",
       "  <thead>\n",
       "    <tr style=\"text-align: right;\">\n",
       "      <th></th>\n",
       "      <th>product</th>\n",
       "      <th>pred</th>\n",
       "    </tr>\n",
       "  </thead>\n",
       "  <tbody>\n",
       "    <tr>\n",
       "      <th>71751</th>\n",
       "      <td>10.038645</td>\n",
       "      <td>95.894952</td>\n",
       "    </tr>\n",
       "    <tr>\n",
       "      <th>80493</th>\n",
       "      <td>114.551489</td>\n",
       "      <td>77.572583</td>\n",
       "    </tr>\n",
       "    <tr>\n",
       "      <th>2655</th>\n",
       "      <td>132.603635</td>\n",
       "      <td>77.892640</td>\n",
       "    </tr>\n",
       "    <tr>\n",
       "      <th>53233</th>\n",
       "      <td>169.072125</td>\n",
       "      <td>90.175134</td>\n",
       "    </tr>\n",
       "    <tr>\n",
       "      <th>91141</th>\n",
       "      <td>122.325180</td>\n",
       "      <td>70.510088</td>\n",
       "    </tr>\n",
       "    <tr>\n",
       "      <th>...</th>\n",
       "      <td>...</td>\n",
       "      <td>...</td>\n",
       "    </tr>\n",
       "    <tr>\n",
       "      <th>12581</th>\n",
       "      <td>170.116726</td>\n",
       "      <td>103.037104</td>\n",
       "    </tr>\n",
       "    <tr>\n",
       "      <th>18456</th>\n",
       "      <td>93.632175</td>\n",
       "      <td>85.403255</td>\n",
       "    </tr>\n",
       "    <tr>\n",
       "      <th>73035</th>\n",
       "      <td>127.352259</td>\n",
       "      <td>61.509833</td>\n",
       "    </tr>\n",
       "    <tr>\n",
       "      <th>63834</th>\n",
       "      <td>99.782700</td>\n",
       "      <td>118.180397</td>\n",
       "    </tr>\n",
       "    <tr>\n",
       "      <th>43558</th>\n",
       "      <td>177.821022</td>\n",
       "      <td>118.169392</td>\n",
       "    </tr>\n",
       "  </tbody>\n",
       "</table>\n",
       "<p>25000 rows × 2 columns</p>\n",
       "</div>"
      ],
      "text/plain": [
       "          product        pred\n",
       "71751   10.038645   95.894952\n",
       "80493  114.551489   77.572583\n",
       "2655   132.603635   77.892640\n",
       "53233  169.072125   90.175134\n",
       "91141  122.325180   70.510088\n",
       "...           ...         ...\n",
       "12581  170.116726  103.037104\n",
       "18456   93.632175   85.403255\n",
       "73035  127.352259   61.509833\n",
       "63834   99.782700  118.180397\n",
       "43558  177.821022  118.169392\n",
       "\n",
       "[25000 rows x 2 columns]"
      ]
     },
     "execution_count": 55,
     "metadata": {},
     "output_type": "execute_result"
    }
   ],
   "source": [
    "prod_and_pred_0"
   ]
  },
  {
   "cell_type": "code",
   "execution_count": 56,
   "id": "0003cd27",
   "metadata": {},
   "outputs": [
    {
     "data": {
      "text/plain": [
       "3320826.0431398507"
      ]
     },
     "execution_count": 56,
     "metadata": {},
     "output_type": "execute_result"
    }
   ],
   "source": [
    "profit(prod_and_pred_0,200,450,budget)"
   ]
  },
  {
   "cell_type": "markdown",
   "id": "e0796e4e",
   "metadata": {},
   "source": [
    "**Прибыль для региона 0 равна 3320826 тыс.руб.**"
   ]
  },
  {
   "cell_type": "code",
   "execution_count": 57,
   "id": "3421b061",
   "metadata": {},
   "outputs": [],
   "source": [
    "prod_and_pred_1 = pd.DataFrame(y_1_valid)"
   ]
  },
  {
   "cell_type": "code",
   "execution_count": 58,
   "id": "7854e881",
   "metadata": {},
   "outputs": [],
   "source": [
    "prod_and_pred_1.insert(loc=1,column='pred',value=predict_1)"
   ]
  },
  {
   "cell_type": "code",
   "execution_count": 59,
   "id": "dcd02149",
   "metadata": {},
   "outputs": [
    {
     "data": {
      "text/html": [
       "<div>\n",
       "<style scoped>\n",
       "    .dataframe tbody tr th:only-of-type {\n",
       "        vertical-align: middle;\n",
       "    }\n",
       "\n",
       "    .dataframe tbody tr th {\n",
       "        vertical-align: top;\n",
       "    }\n",
       "\n",
       "    .dataframe thead th {\n",
       "        text-align: right;\n",
       "    }\n",
       "</style>\n",
       "<table border=\"1\" class=\"dataframe\">\n",
       "  <thead>\n",
       "    <tr style=\"text-align: right;\">\n",
       "      <th></th>\n",
       "      <th>product</th>\n",
       "      <th>pred</th>\n",
       "    </tr>\n",
       "  </thead>\n",
       "  <tbody>\n",
       "    <tr>\n",
       "      <th>71751</th>\n",
       "      <td>80.859783</td>\n",
       "      <td>82.663314</td>\n",
       "    </tr>\n",
       "    <tr>\n",
       "      <th>80493</th>\n",
       "      <td>53.906522</td>\n",
       "      <td>54.431786</td>\n",
       "    </tr>\n",
       "    <tr>\n",
       "      <th>2655</th>\n",
       "      <td>30.132364</td>\n",
       "      <td>29.748760</td>\n",
       "    </tr>\n",
       "    <tr>\n",
       "      <th>53233</th>\n",
       "      <td>53.906522</td>\n",
       "      <td>53.552133</td>\n",
       "    </tr>\n",
       "    <tr>\n",
       "      <th>91141</th>\n",
       "      <td>0.000000</td>\n",
       "      <td>1.243856</td>\n",
       "    </tr>\n",
       "    <tr>\n",
       "      <th>...</th>\n",
       "      <td>...</td>\n",
       "      <td>...</td>\n",
       "    </tr>\n",
       "    <tr>\n",
       "      <th>12581</th>\n",
       "      <td>137.945408</td>\n",
       "      <td>136.869211</td>\n",
       "    </tr>\n",
       "    <tr>\n",
       "      <th>18456</th>\n",
       "      <td>110.992147</td>\n",
       "      <td>110.693465</td>\n",
       "    </tr>\n",
       "    <tr>\n",
       "      <th>73035</th>\n",
       "      <td>137.945408</td>\n",
       "      <td>137.879341</td>\n",
       "    </tr>\n",
       "    <tr>\n",
       "      <th>63834</th>\n",
       "      <td>84.038886</td>\n",
       "      <td>83.761966</td>\n",
       "    </tr>\n",
       "    <tr>\n",
       "      <th>43558</th>\n",
       "      <td>53.906522</td>\n",
       "      <td>53.958466</td>\n",
       "    </tr>\n",
       "  </tbody>\n",
       "</table>\n",
       "<p>25000 rows × 2 columns</p>\n",
       "</div>"
      ],
      "text/plain": [
       "          product        pred\n",
       "71751   80.859783   82.663314\n",
       "80493   53.906522   54.431786\n",
       "2655    30.132364   29.748760\n",
       "53233   53.906522   53.552133\n",
       "91141    0.000000    1.243856\n",
       "...           ...         ...\n",
       "12581  137.945408  136.869211\n",
       "18456  110.992147  110.693465\n",
       "73035  137.945408  137.879341\n",
       "63834   84.038886   83.761966\n",
       "43558   53.906522   53.958466\n",
       "\n",
       "[25000 rows x 2 columns]"
      ]
     },
     "execution_count": 59,
     "metadata": {},
     "output_type": "execute_result"
    }
   ],
   "source": [
    "prod_and_pred_1"
   ]
  },
  {
   "cell_type": "code",
   "execution_count": 60,
   "id": "9a3b0116",
   "metadata": {},
   "outputs": [
    {
     "data": {
      "text/plain": [
       "2415086.6966815125"
      ]
     },
     "execution_count": 60,
     "metadata": {},
     "output_type": "execute_result"
    }
   ],
   "source": [
    "profit(prod_and_pred_1,200,450,budget)"
   ]
  },
  {
   "cell_type": "markdown",
   "id": "cc293679",
   "metadata": {},
   "source": [
    "**Прибыль для региона 1 равна 2415086.69**"
   ]
  },
  {
   "cell_type": "code",
   "execution_count": 61,
   "id": "89fae2e4",
   "metadata": {},
   "outputs": [],
   "source": [
    "prod_and_pred_2 = pd.DataFrame(y_2_valid)"
   ]
  },
  {
   "cell_type": "code",
   "execution_count": 62,
   "id": "3b18ebcb",
   "metadata": {},
   "outputs": [],
   "source": [
    "prod_and_pred_2.insert(loc=1,column='pred',value=predict_2)"
   ]
  },
  {
   "cell_type": "markdown",
   "id": "69921290",
   "metadata": {},
   "source": [
    "**Третий регион(регион 2):**"
   ]
  },
  {
   "cell_type": "code",
   "execution_count": 63,
   "id": "034302d4",
   "metadata": {},
   "outputs": [
    {
     "data": {
      "text/plain": [
       "2710349.9635998327"
      ]
     },
     "execution_count": 63,
     "metadata": {},
     "output_type": "execute_result"
    }
   ],
   "source": [
    "profit(prod_and_pred_2,200,450,budget)"
   ]
  },
  {
   "cell_type": "markdown",
   "id": "d57e41de",
   "metadata": {},
   "source": [
    "тыс рублей. Напоминаю это мы подсчитали прибль из 200 скважен по реальным данным, но отрбирали 200 лучших скважен на основе предсказаний. Лидирует регион 0"
   ]
  },
  {
   "cell_type": "markdown",
   "id": "85630c54",
   "metadata": {},
   "source": [
    "Функция работает. Её будем использовать дальше для техники `Bootstrap`"
   ]
  },
  {
   "cell_type": "markdown",
   "id": "cae2dae2",
   "metadata": {},
   "source": [
    "## Посчитаем риски и прибыль для каждого региона:\n",
    "5.1. Применим технику Bootstrap с 1000 выборок, чтобы найти распределение прибыли.\n",
    "5.2. Найдите среднюю прибыль, 95%-й доверительный интервал и риск убытков. Убыток — это отрицательная прибыль.\n",
    "5.3. Напишите выводы: предложите регион для разработки скважин и обоснуйте выбор."
   ]
  },
  {
   "cell_type": "markdown",
   "id": "32a85636",
   "metadata": {},
   "source": [
    "### Применим технику Bootstrap с 1000 выборок, чтобы найти распределение прибыли. "
   ]
  },
  {
   "cell_type": "code",
   "execution_count": 64,
   "id": "cc0e3205",
   "metadata": {},
   "outputs": [],
   "source": [
    "state = np.random.RandomState(12345)"
   ]
  },
  {
   "cell_type": "markdown",
   "id": "e9f6c2ed",
   "metadata": {},
   "source": [
    "Я написал функцию, которая будет выполнятю bootstrap для наших предсказаний. Этф функция будет принимать наши предсказания региона и бюджет на разработку региона. Далее случайно будет брать 500 скважен и перенаправлять эти данные в функцию `profit`,\n",
    "которая в свою очередь бедет брать 200 скважен с самым большим запасом и возращать сумму прибыли(или убытка) в этом регионе."
   ]
  },
  {
   "cell_type": "code",
   "execution_count": 65,
   "id": "6af947a6",
   "metadata": {},
   "outputs": [],
   "source": [
    "def boots(data,budget):\n",
    "    values = []\n",
    "    for i in range(1000):\n",
    "        target = data.sample(n=500,replace=True,random_state=state)\n",
    "        values.append(profit(target,200,450,budget))\n",
    "\n",
    "    return pd.Series(values)\n",
    "\n"
   ]
  },
  {
   "cell_type": "code",
   "execution_count": 66,
   "id": "4bcbf880",
   "metadata": {},
   "outputs": [
    {
     "data": {
      "text/plain": [
       "0      9.886908e+05\n",
       "1      5.363934e+05\n",
       "2      6.336436e+05\n",
       "3      5.896001e+05\n",
       "4      2.719929e+05\n",
       "           ...     \n",
       "995    5.566130e+05\n",
       "996    9.280870e+05\n",
       "997    1.030250e+06\n",
       "998    5.354841e+05\n",
       "999    5.015203e+05\n",
       "Length: 1000, dtype: float64"
      ]
     },
     "execution_count": 66,
     "metadata": {},
     "output_type": "execute_result"
    }
   ],
   "source": [
    "boots(prod_and_pred_0,budget)"
   ]
  },
  {
   "cell_type": "markdown",
   "id": "48c1e69a",
   "metadata": {},
   "source": [
    "функция работает"
   ]
  },
  {
   "cell_type": "markdown",
   "id": "742e0d13",
   "metadata": {},
   "source": [
    "### Найдём среднюю прибыль, 95%-й доверительный интервал и риск убытков. Убыток — это отрицательная прибыль."
   ]
  },
  {
   "cell_type": "markdown",
   "id": "e758b3f2",
   "metadata": {},
   "source": [
    "#### регион 0"
   ]
  },
  {
   "cell_type": "markdown",
   "id": "011270a0",
   "metadata": {},
   "source": [
    "Посчитаем для региона 0."
   ]
  },
  {
   "cell_type": "code",
   "execution_count": 67,
   "id": "01e224d2",
   "metadata": {},
   "outputs": [],
   "source": [
    "reg_0_rev = boots(prod_and_pred_0,budget)\n"
   ]
  },
  {
   "cell_type": "markdown",
   "id": "565680db",
   "metadata": {},
   "source": [
    "Среднее прибыли равно:"
   ]
  },
  {
   "cell_type": "code",
   "execution_count": 68,
   "id": "7d974fd3",
   "metadata": {},
   "outputs": [
    {
     "data": {
      "text/plain": [
       "593502.9802534715"
      ]
     },
     "execution_count": 68,
     "metadata": {},
     "output_type": "execute_result"
    }
   ],
   "source": [
    "reg_0_rev.mean()"
   ]
  },
  {
   "cell_type": "markdown",
   "id": "3f32bb4d",
   "metadata": {},
   "source": [
    "Примерно 594.597 млн."
   ]
  },
  {
   "cell_type": "markdown",
   "id": "cb78dba4",
   "metadata": {},
   "source": [
    "Посчитаем доверительный 95% интервал. Для этого возьмём квантиль 2.5 для нижней границе и 97.5 для вержней."
   ]
  },
  {
   "cell_type": "code",
   "execution_count": 69,
   "id": "f89f31c2",
   "metadata": {},
   "outputs": [],
   "source": [
    "def intervals(data):\n",
    "    low=data.quantile(0.025)\n",
    "    high=data.quantile(0.975)\n",
    "    return low ,high"
   ]
  },
  {
   "cell_type": "code",
   "execution_count": 70,
   "id": "85819407",
   "metadata": {},
   "outputs": [
    {
     "data": {
      "text/plain": [
       "(-2298.992493030658, 1237085.008459999)"
      ]
     },
     "execution_count": 70,
     "metadata": {},
     "output_type": "execute_result"
    }
   ],
   "source": [
    "intervals(reg_0_rev)"
   ]
  },
  {
   "cell_type": "markdown",
   "id": "13a8e0be",
   "metadata": {},
   "source": [
    "<div class=\"alert alert-block alert-danger\">\n",
    "<b>Ошибка:</b> Для подсчета доверительного интервала стоит использовать метод квантилей, так как мы реализуем технику бутстрап.\n",
    "</div>"
   ]
  },
  {
   "cell_type": "markdown",
   "id": "ede0633d",
   "metadata": {},
   "source": [
    "<div class=\"alert alert-block alert-warning\">\n",
    "<b>Изменения:</b> Использовал метод квантилей . написал для этого функцию.\n",
    "</div>"
   ]
  },
  {
   "cell_type": "markdown",
   "id": "aa3fd1f4",
   "metadata": {},
   "source": [
    "Посчитаем убытки , Это значит доля отрицательной прибыли должна быть меньше 2.5% согласно условию."
   ]
  },
  {
   "cell_type": "code",
   "execution_count": 71,
   "id": "9d7c9e86",
   "metadata": {},
   "outputs": [
    {
     "data": {
      "text/plain": [
       "0.026"
      ]
     },
     "execution_count": 71,
     "metadata": {},
     "output_type": "execute_result"
    }
   ],
   "source": [
    "reg_0_rev[reg_0_rev<=0].count()/len(reg_0_rev)"
   ]
  },
  {
   "cell_type": "markdown",
   "id": "a49e2350",
   "metadata": {},
   "source": [
    "Доля риска убытков превышает необходимое. Этот регион не подходит для разработки."
   ]
  },
  {
   "cell_type": "markdown",
   "id": "66177776",
   "metadata": {},
   "source": [
    "<div class=\"alert alert-block alert-danger\">\n",
    "<b>Ошибка:</b> Риск убытков – это доля отрицательных значений в reg_0_rev.\n",
    "</div>"
   ]
  },
  {
   "cell_type": "markdown",
   "id": "5180ef59",
   "metadata": {},
   "source": [
    "<div class=\"alert alert-block alert-warning\">\n",
    "<b>Изменения:</b> Пересчитал\n",
    "</div>"
   ]
  },
  {
   "cell_type": "markdown",
   "id": "a8c7b4a7",
   "metadata": {},
   "source": [
    "#### регион 1"
   ]
  },
  {
   "cell_type": "code",
   "execution_count": 72,
   "id": "6555dd8f",
   "metadata": {},
   "outputs": [],
   "source": [
    "reg_1_rev = boots(prod_and_pred_1,budget)"
   ]
  },
  {
   "cell_type": "markdown",
   "id": "ca669a8b",
   "metadata": {},
   "source": [
    "Среднее значение:"
   ]
  },
  {
   "cell_type": "code",
   "execution_count": 73,
   "id": "a5289d0e",
   "metadata": {},
   "outputs": [
    {
     "data": {
      "text/plain": [
       "656499.431470379"
      ]
     },
     "execution_count": 73,
     "metadata": {},
     "output_type": "execute_result"
    }
   ],
   "source": [
    "reg_1_rev.mean()"
   ]
  },
  {
   "cell_type": "markdown",
   "id": "33fe1826",
   "metadata": {},
   "source": [
    "Доверительный интервал"
   ]
  },
  {
   "cell_type": "code",
   "execution_count": 74,
   "id": "56829a80",
   "metadata": {},
   "outputs": [
    {
     "data": {
      "text/plain": [
       "(197350.09073287848, 1195489.4732361736)"
      ]
     },
     "execution_count": 74,
     "metadata": {},
     "output_type": "execute_result"
    }
   ],
   "source": [
    "intervals(reg_1_rev)"
   ]
  },
  {
   "cell_type": "raw",
   "id": "efec1e0b",
   "metadata": {},
   "source": [
    "Вероятность убытков:"
   ]
  },
  {
   "cell_type": "code",
   "execution_count": 75,
   "id": "ca683f2f",
   "metadata": {},
   "outputs": [
    {
     "data": {
      "text/plain": [
       "0.003"
      ]
     },
     "execution_count": 75,
     "metadata": {},
     "output_type": "execute_result"
    }
   ],
   "source": [
    "reg_1_rev[reg_1_rev<=0].count()/len(reg_1_rev)"
   ]
  },
  {
   "cell_type": "markdown",
   "id": "3fce9de9",
   "metadata": {},
   "source": [
    "Вероятность убытков 0.3%. Данны регион нам подходит."
   ]
  },
  {
   "cell_type": "markdown",
   "id": "c2d83d66",
   "metadata": {},
   "source": [
    "#### регион 2"
   ]
  },
  {
   "cell_type": "code",
   "execution_count": 76,
   "id": "7e78c974",
   "metadata": {},
   "outputs": [],
   "source": [
    "reg_2_rev = boots(prod_and_pred_2,budget)"
   ]
  },
  {
   "cell_type": "markdown",
   "id": "1e81ddd4",
   "metadata": {},
   "source": [
    "Среднее:"
   ]
  },
  {
   "cell_type": "code",
   "execution_count": 77,
   "id": "8f3958d6",
   "metadata": {},
   "outputs": [
    {
     "data": {
      "text/plain": [
       "602961.0062256233"
      ]
     },
     "execution_count": 77,
     "metadata": {},
     "output_type": "execute_result"
    }
   ],
   "source": [
    "reg_2_rev.mean()"
   ]
  },
  {
   "cell_type": "markdown",
   "id": "146fe37e",
   "metadata": {},
   "source": [
    "Доверительный интервал:"
   ]
  },
  {
   "cell_type": "code",
   "execution_count": 78,
   "id": "5469f515",
   "metadata": {},
   "outputs": [
    {
     "data": {
      "text/plain": [
       "(46574.53769843802, 1215253.5561733735)"
      ]
     },
     "execution_count": 78,
     "metadata": {},
     "output_type": "execute_result"
    }
   ],
   "source": [
    "intervals(reg_2_rev)"
   ]
  },
  {
   "cell_type": "markdown",
   "id": "703c05dd",
   "metadata": {},
   "source": [
    "Вероятность убытков:"
   ]
  },
  {
   "cell_type": "code",
   "execution_count": 79,
   "id": "3949d612",
   "metadata": {},
   "outputs": [
    {
     "data": {
      "text/plain": [
       "0.021"
      ]
     },
     "execution_count": 79,
     "metadata": {},
     "output_type": "execute_result"
    }
   ],
   "source": [
    "reg_2_rev[reg_2_rev<=0].count()/len(reg_2_rev)"
   ]
  },
  {
   "cell_type": "markdown",
   "id": "b5256b49",
   "metadata": {},
   "source": [
    "Убытки тоже маловероятны.2.1%"
   ]
  },
  {
   "cell_type": "markdown",
   "id": "70960a41",
   "metadata": {},
   "source": [
    " ## Вывод:"
   ]
  },
  {
   "cell_type": "markdown",
   "id": "26cc7d11",
   "metadata": {},
   "source": [
    "**Согласно проведённому исследованию и анализу регион 1 и регион 2 подходят для разработки  так доли рисков соответсвеут требованию заказчика.Для разработке рекомендуется из этих двух регион с большим среднем значение прибыли-это регион 1 со средним 657154.39.**\n"
   ]
  },
  {
   "cell_type": "markdown",
   "id": "689f662d",
   "metadata": {},
   "source": [
    "<div class=\"alert alert-block alert-success\">\n",
    "<b>Успех:</b> У тебя все верно. Для каждого региона должна быть своя модель.\n",
    "</div>"
   ]
  }
 ],
 "metadata": {
  "ExecuteTimeLog": [
   {
    "duration": 184,
    "start_time": "2022-05-02T08:26:54.947Z"
   },
   {
    "duration": 1223,
    "start_time": "2022-05-02T08:28:03.118Z"
   },
   {
    "duration": 139,
    "start_time": "2022-05-02T08:28:04.346Z"
   },
   {
    "duration": 18,
    "start_time": "2022-05-02T08:28:04.486Z"
   },
   {
    "duration": 15,
    "start_time": "2022-05-02T08:28:04.506Z"
   },
   {
    "duration": 128,
    "start_time": "2022-05-02T08:28:04.534Z"
   },
   {
    "duration": 15,
    "start_time": "2022-05-02T08:28:04.664Z"
   },
   {
    "duration": 131,
    "start_time": "2022-05-02T08:28:04.681Z"
   },
   {
    "duration": 32,
    "start_time": "2022-05-02T08:28:04.814Z"
   },
   {
    "duration": 4,
    "start_time": "2022-05-02T08:28:04.848Z"
   },
   {
    "duration": 15,
    "start_time": "2022-05-02T08:28:04.855Z"
   },
   {
    "duration": 4,
    "start_time": "2022-05-02T08:28:04.872Z"
   },
   {
    "duration": 5,
    "start_time": "2022-05-02T08:28:04.878Z"
   },
   {
    "duration": 8,
    "start_time": "2022-05-02T08:28:04.885Z"
   },
   {
    "duration": 6,
    "start_time": "2022-05-02T08:28:04.895Z"
   },
   {
    "duration": 34,
    "start_time": "2022-05-02T08:28:04.902Z"
   },
   {
    "duration": 21,
    "start_time": "2022-05-02T08:28:04.945Z"
   },
   {
    "duration": 5,
    "start_time": "2022-05-02T08:28:04.967Z"
   },
   {
    "duration": 62,
    "start_time": "2022-05-02T08:28:04.974Z"
   },
   {
    "duration": 101,
    "start_time": "2022-05-02T08:28:05.043Z"
   },
   {
    "duration": 682,
    "start_time": "2022-05-02T08:28:05.146Z"
   },
   {
    "duration": 6,
    "start_time": "2022-05-02T08:28:05.834Z"
   },
   {
    "duration": 175,
    "start_time": "2022-05-02T08:28:05.843Z"
   },
   {
    "duration": 28,
    "start_time": "2022-05-02T08:28:06.020Z"
   },
   {
    "duration": 3,
    "start_time": "2022-05-02T08:28:06.050Z"
   },
   {
    "duration": 17,
    "start_time": "2022-05-02T08:28:06.055Z"
   },
   {
    "duration": 19,
    "start_time": "2022-05-02T08:28:06.135Z"
   },
   {
    "duration": 116,
    "start_time": "2022-05-02T08:28:06.236Z"
   },
   {
    "duration": 4,
    "start_time": "2022-05-02T08:28:06.356Z"
   },
   {
    "duration": 11,
    "start_time": "2022-05-02T08:28:06.362Z"
   },
   {
    "duration": 15,
    "start_time": "2022-05-02T08:28:06.375Z"
   },
   {
    "duration": 3,
    "start_time": "2022-05-02T08:28:06.392Z"
   },
   {
    "duration": 18,
    "start_time": "2022-05-02T08:28:06.397Z"
   },
   {
    "duration": 20,
    "start_time": "2022-05-02T08:28:06.417Z"
   },
   {
    "duration": 194,
    "start_time": "2022-05-02T08:28:06.441Z"
   },
   {
    "duration": 9,
    "start_time": "2022-05-02T08:28:06.639Z"
   },
   {
    "duration": 8,
    "start_time": "2022-05-02T08:28:06.650Z"
   },
   {
    "duration": 10,
    "start_time": "2022-05-02T08:28:06.659Z"
   },
   {
    "duration": 101,
    "start_time": "2022-05-02T08:28:06.735Z"
   },
   {
    "duration": 7,
    "start_time": "2022-05-02T08:28:06.845Z"
   },
   {
    "duration": 9,
    "start_time": "2022-05-02T08:28:06.854Z"
   },
   {
    "duration": 6,
    "start_time": "2022-05-02T08:28:06.864Z"
   },
   {
    "duration": 9,
    "start_time": "2022-05-02T08:28:06.872Z"
   },
   {
    "duration": 4,
    "start_time": "2022-05-02T08:28:06.883Z"
   },
   {
    "duration": 6,
    "start_time": "2022-05-02T08:28:06.889Z"
   },
   {
    "duration": 5,
    "start_time": "2022-05-02T08:28:06.897Z"
   },
   {
    "duration": 8,
    "start_time": "2022-05-02T08:28:06.904Z"
   },
   {
    "duration": 7,
    "start_time": "2022-05-02T08:28:06.913Z"
   },
   {
    "duration": 9,
    "start_time": "2022-05-02T08:28:06.935Z"
   },
   {
    "duration": 12,
    "start_time": "2022-05-02T08:28:06.947Z"
   },
   {
    "duration": 6,
    "start_time": "2022-05-02T08:28:06.960Z"
   },
   {
    "duration": 5,
    "start_time": "2022-05-02T08:28:06.967Z"
   },
   {
    "duration": 3,
    "start_time": "2022-05-02T08:28:06.974Z"
   },
   {
    "duration": 147,
    "start_time": "2022-05-02T08:28:06.979Z"
   },
   {
    "duration": 0,
    "start_time": "2022-05-02T08:28:07.127Z"
   },
   {
    "duration": 0,
    "start_time": "2022-05-02T08:28:07.139Z"
   },
   {
    "duration": 0,
    "start_time": "2022-05-02T08:28:07.147Z"
   },
   {
    "duration": 0,
    "start_time": "2022-05-02T08:28:07.148Z"
   },
   {
    "duration": 0,
    "start_time": "2022-05-02T08:28:07.149Z"
   },
   {
    "duration": 0,
    "start_time": "2022-05-02T08:28:07.150Z"
   },
   {
    "duration": 0,
    "start_time": "2022-05-02T08:28:07.151Z"
   },
   {
    "duration": 0,
    "start_time": "2022-05-02T08:28:07.152Z"
   },
   {
    "duration": 0,
    "start_time": "2022-05-02T08:28:07.153Z"
   },
   {
    "duration": 0,
    "start_time": "2022-05-02T08:28:07.154Z"
   },
   {
    "duration": 0,
    "start_time": "2022-05-02T08:28:07.155Z"
   },
   {
    "duration": 0,
    "start_time": "2022-05-02T08:28:07.156Z"
   },
   {
    "duration": 0,
    "start_time": "2022-05-02T08:28:07.157Z"
   },
   {
    "duration": 0,
    "start_time": "2022-05-02T08:28:07.158Z"
   },
   {
    "duration": 0,
    "start_time": "2022-05-02T08:28:07.159Z"
   },
   {
    "duration": 8,
    "start_time": "2022-05-02T08:28:24.034Z"
   },
   {
    "duration": 5,
    "start_time": "2022-05-02T08:28:46.807Z"
   },
   {
    "duration": 9,
    "start_time": "2022-05-02T08:30:12.860Z"
   },
   {
    "duration": 14,
    "start_time": "2022-05-02T08:31:02.695Z"
   },
   {
    "duration": 6,
    "start_time": "2022-05-02T08:31:24.739Z"
   },
   {
    "duration": 5,
    "start_time": "2022-05-02T08:31:36.462Z"
   },
   {
    "duration": 11,
    "start_time": "2022-05-02T08:33:12.663Z"
   },
   {
    "duration": 949,
    "start_time": "2022-05-02T08:33:18.727Z"
   },
   {
    "duration": 13,
    "start_time": "2022-05-02T08:34:27.801Z"
   },
   {
    "duration": 14,
    "start_time": "2022-05-02T08:34:35.055Z"
   },
   {
    "duration": 721,
    "start_time": "2022-05-02T08:35:20.396Z"
   },
   {
    "duration": 757,
    "start_time": "2022-05-02T08:35:56.725Z"
   },
   {
    "duration": 22,
    "start_time": "2022-05-02T08:37:18.310Z"
   },
   {
    "duration": 457,
    "start_time": "2022-05-02T08:38:03.027Z"
   },
   {
    "duration": 52,
    "start_time": "2022-05-02T08:39:23.995Z"
   },
   {
    "duration": 2034,
    "start_time": "2022-05-02T08:39:37.521Z"
   },
   {
    "duration": 771,
    "start_time": "2022-05-02T08:39:39.557Z"
   },
   {
    "duration": 18,
    "start_time": "2022-05-02T08:39:40.330Z"
   },
   {
    "duration": 16,
    "start_time": "2022-05-02T08:39:40.351Z"
   },
   {
    "duration": 131,
    "start_time": "2022-05-02T08:39:40.369Z"
   },
   {
    "duration": 17,
    "start_time": "2022-05-02T08:39:40.502Z"
   },
   {
    "duration": 140,
    "start_time": "2022-05-02T08:39:40.520Z"
   },
   {
    "duration": 17,
    "start_time": "2022-05-02T08:39:40.662Z"
   },
   {
    "duration": 4,
    "start_time": "2022-05-02T08:39:40.681Z"
   },
   {
    "duration": 17,
    "start_time": "2022-05-02T08:39:40.689Z"
   },
   {
    "duration": 27,
    "start_time": "2022-05-02T08:39:40.708Z"
   },
   {
    "duration": 5,
    "start_time": "2022-05-02T08:39:40.737Z"
   },
   {
    "duration": 7,
    "start_time": "2022-05-02T08:39:40.744Z"
   },
   {
    "duration": 9,
    "start_time": "2022-05-02T08:39:40.752Z"
   },
   {
    "duration": 5,
    "start_time": "2022-05-02T08:39:40.763Z"
   },
   {
    "duration": 20,
    "start_time": "2022-05-02T08:39:40.769Z"
   },
   {
    "duration": 49,
    "start_time": "2022-05-02T08:39:40.790Z"
   },
   {
    "duration": 97,
    "start_time": "2022-05-02T08:39:40.842Z"
   },
   {
    "duration": 4,
    "start_time": "2022-05-02T08:39:40.942Z"
   },
   {
    "duration": 467,
    "start_time": "2022-05-02T08:39:40.949Z"
   },
   {
    "duration": 16,
    "start_time": "2022-05-02T08:39:41.418Z"
   },
   {
    "duration": 165,
    "start_time": "2022-05-02T08:39:41.437Z"
   },
   {
    "duration": 18,
    "start_time": "2022-05-02T08:39:41.604Z"
   },
   {
    "duration": 3,
    "start_time": "2022-05-02T08:39:41.634Z"
   },
   {
    "duration": 15,
    "start_time": "2022-05-02T08:39:41.640Z"
   },
   {
    "duration": 77,
    "start_time": "2022-05-02T08:39:41.657Z"
   },
   {
    "duration": 13,
    "start_time": "2022-05-02T08:39:41.737Z"
   },
   {
    "duration": 5,
    "start_time": "2022-05-02T08:39:41.837Z"
   },
   {
    "duration": 6,
    "start_time": "2022-05-02T08:39:41.844Z"
   },
   {
    "duration": 16,
    "start_time": "2022-05-02T08:39:41.852Z"
   },
   {
    "duration": 3,
    "start_time": "2022-05-02T08:39:41.870Z"
   },
   {
    "duration": 15,
    "start_time": "2022-05-02T08:39:41.875Z"
   },
   {
    "duration": 44,
    "start_time": "2022-05-02T08:39:41.891Z"
   },
   {
    "duration": 96,
    "start_time": "2022-05-02T08:39:41.939Z"
   },
   {
    "duration": 6,
    "start_time": "2022-05-02T08:39:42.037Z"
   },
   {
    "duration": 6,
    "start_time": "2022-05-02T08:39:42.045Z"
   },
   {
    "duration": 82,
    "start_time": "2022-05-02T08:39:42.053Z"
   },
   {
    "duration": 98,
    "start_time": "2022-05-02T08:39:42.137Z"
   },
   {
    "duration": 6,
    "start_time": "2022-05-02T08:39:42.237Z"
   },
   {
    "duration": 7,
    "start_time": "2022-05-02T08:39:42.244Z"
   },
   {
    "duration": 8,
    "start_time": "2022-05-02T08:39:42.253Z"
   },
   {
    "duration": 9,
    "start_time": "2022-05-02T08:39:42.262Z"
   },
   {
    "duration": 5,
    "start_time": "2022-05-02T08:39:42.273Z"
   },
   {
    "duration": 7,
    "start_time": "2022-05-02T08:39:42.280Z"
   },
   {
    "duration": 8,
    "start_time": "2022-05-02T08:39:42.289Z"
   },
   {
    "duration": 8,
    "start_time": "2022-05-02T08:39:42.299Z"
   },
   {
    "duration": 28,
    "start_time": "2022-05-02T08:39:42.309Z"
   },
   {
    "duration": 8,
    "start_time": "2022-05-02T08:39:42.339Z"
   },
   {
    "duration": 11,
    "start_time": "2022-05-02T08:39:42.349Z"
   },
   {
    "duration": 7,
    "start_time": "2022-05-02T08:39:42.362Z"
   },
   {
    "duration": 6,
    "start_time": "2022-05-02T08:39:42.371Z"
   },
   {
    "duration": 7,
    "start_time": "2022-05-02T08:39:42.378Z"
   },
   {
    "duration": 1907,
    "start_time": "2022-05-02T08:40:08.975Z"
   },
   {
    "duration": 133,
    "start_time": "2022-05-02T08:40:10.884Z"
   },
   {
    "duration": 18,
    "start_time": "2022-05-02T08:40:11.019Z"
   },
   {
    "duration": 16,
    "start_time": "2022-05-02T08:40:11.039Z"
   },
   {
    "duration": 123,
    "start_time": "2022-05-02T08:40:11.057Z"
   },
   {
    "duration": 14,
    "start_time": "2022-05-02T08:40:11.182Z"
   },
   {
    "duration": 123,
    "start_time": "2022-05-02T08:40:11.198Z"
   },
   {
    "duration": 20,
    "start_time": "2022-05-02T08:40:11.322Z"
   },
   {
    "duration": 3,
    "start_time": "2022-05-02T08:40:11.344Z"
   },
   {
    "duration": 16,
    "start_time": "2022-05-02T08:40:11.350Z"
   },
   {
    "duration": 4,
    "start_time": "2022-05-02T08:40:11.367Z"
   },
   {
    "duration": 13,
    "start_time": "2022-05-02T08:40:11.373Z"
   },
   {
    "duration": 7,
    "start_time": "2022-05-02T08:40:11.388Z"
   },
   {
    "duration": 10,
    "start_time": "2022-05-02T08:40:11.396Z"
   },
   {
    "duration": 6,
    "start_time": "2022-05-02T08:40:11.408Z"
   },
   {
    "duration": 15,
    "start_time": "2022-05-02T08:40:11.433Z"
   },
   {
    "duration": 5,
    "start_time": "2022-05-02T08:40:11.449Z"
   },
   {
    "duration": 179,
    "start_time": "2022-05-02T08:40:11.456Z"
   },
   {
    "duration": 8,
    "start_time": "2022-05-02T08:40:11.637Z"
   },
   {
    "duration": 567,
    "start_time": "2022-05-02T08:40:11.646Z"
   },
   {
    "duration": 5,
    "start_time": "2022-05-02T08:40:12.214Z"
   },
   {
    "duration": 161,
    "start_time": "2022-05-02T08:40:12.220Z"
   },
   {
    "duration": 16,
    "start_time": "2022-05-02T08:40:12.383Z"
   },
   {
    "duration": 3,
    "start_time": "2022-05-02T08:40:12.401Z"
   },
   {
    "duration": 30,
    "start_time": "2022-05-02T08:40:12.406Z"
   },
   {
    "duration": 13,
    "start_time": "2022-05-02T08:40:12.438Z"
   },
   {
    "duration": 102,
    "start_time": "2022-05-02T08:40:12.535Z"
   },
   {
    "duration": 5,
    "start_time": "2022-05-02T08:40:12.642Z"
   },
   {
    "duration": 7,
    "start_time": "2022-05-02T08:40:12.648Z"
   },
   {
    "duration": 15,
    "start_time": "2022-05-02T08:40:12.657Z"
   },
   {
    "duration": 3,
    "start_time": "2022-05-02T08:40:12.674Z"
   },
   {
    "duration": 14,
    "start_time": "2022-05-02T08:40:12.679Z"
   },
   {
    "duration": 40,
    "start_time": "2022-05-02T08:40:12.695Z"
   },
   {
    "duration": 198,
    "start_time": "2022-05-02T08:40:12.737Z"
   },
   {
    "duration": 4,
    "start_time": "2022-05-02T08:40:12.937Z"
   },
   {
    "duration": 8,
    "start_time": "2022-05-02T08:40:12.943Z"
   },
   {
    "duration": 9,
    "start_time": "2022-05-02T08:40:12.952Z"
   },
   {
    "duration": 72,
    "start_time": "2022-05-02T08:40:12.963Z"
   },
   {
    "duration": 97,
    "start_time": "2022-05-02T08:40:13.037Z"
   },
   {
    "duration": 5,
    "start_time": "2022-05-02T08:40:13.135Z"
   },
   {
    "duration": 6,
    "start_time": "2022-05-02T08:40:13.141Z"
   },
   {
    "duration": 7,
    "start_time": "2022-05-02T08:40:13.148Z"
   },
   {
    "duration": 5,
    "start_time": "2022-05-02T08:40:13.157Z"
   },
   {
    "duration": 6,
    "start_time": "2022-05-02T08:40:13.163Z"
   },
   {
    "duration": 4,
    "start_time": "2022-05-02T08:40:13.171Z"
   },
   {
    "duration": 8,
    "start_time": "2022-05-02T08:40:13.177Z"
   },
   {
    "duration": 5,
    "start_time": "2022-05-02T08:40:13.187Z"
   },
   {
    "duration": 5,
    "start_time": "2022-05-02T08:40:13.193Z"
   },
   {
    "duration": 38,
    "start_time": "2022-05-02T08:40:13.200Z"
   },
   {
    "duration": 5,
    "start_time": "2022-05-02T08:40:13.240Z"
   },
   {
    "duration": 6,
    "start_time": "2022-05-02T08:40:13.247Z"
   },
   {
    "duration": 3,
    "start_time": "2022-05-02T08:40:13.255Z"
   },
   {
    "duration": 1173,
    "start_time": "2022-05-02T08:40:37.354Z"
   },
   {
    "duration": 128,
    "start_time": "2022-05-02T08:40:38.529Z"
   },
   {
    "duration": 17,
    "start_time": "2022-05-02T08:40:38.658Z"
   },
   {
    "duration": 15,
    "start_time": "2022-05-02T08:40:38.677Z"
   },
   {
    "duration": 125,
    "start_time": "2022-05-02T08:40:38.694Z"
   },
   {
    "duration": 20,
    "start_time": "2022-05-02T08:40:38.820Z"
   },
   {
    "duration": 121,
    "start_time": "2022-05-02T08:40:38.842Z"
   },
   {
    "duration": 15,
    "start_time": "2022-05-02T08:40:38.965Z"
   },
   {
    "duration": 3,
    "start_time": "2022-05-02T08:40:38.982Z"
   },
   {
    "duration": 18,
    "start_time": "2022-05-02T08:40:38.987Z"
   },
   {
    "duration": 3,
    "start_time": "2022-05-02T08:40:39.007Z"
   },
   {
    "duration": 24,
    "start_time": "2022-05-02T08:40:39.012Z"
   },
   {
    "duration": 8,
    "start_time": "2022-05-02T08:40:39.037Z"
   },
   {
    "duration": 9,
    "start_time": "2022-05-02T08:40:39.047Z"
   },
   {
    "duration": 5,
    "start_time": "2022-05-02T08:40:39.058Z"
   },
   {
    "duration": 24,
    "start_time": "2022-05-02T08:40:39.064Z"
   },
   {
    "duration": 44,
    "start_time": "2022-05-02T08:40:39.089Z"
   },
   {
    "duration": 7,
    "start_time": "2022-05-02T08:40:39.136Z"
   },
   {
    "duration": 91,
    "start_time": "2022-05-02T08:40:39.145Z"
   },
   {
    "duration": 506,
    "start_time": "2022-05-02T08:40:39.237Z"
   },
   {
    "duration": 5,
    "start_time": "2022-05-02T08:40:39.744Z"
   },
   {
    "duration": 158,
    "start_time": "2022-05-02T08:40:39.750Z"
   },
   {
    "duration": 24,
    "start_time": "2022-05-02T08:40:39.910Z"
   },
   {
    "duration": 2,
    "start_time": "2022-05-02T08:40:39.936Z"
   },
   {
    "duration": 15,
    "start_time": "2022-05-02T08:40:39.940Z"
   },
   {
    "duration": 5,
    "start_time": "2022-05-02T08:40:39.956Z"
   },
   {
    "duration": 75,
    "start_time": "2022-05-02T08:40:39.964Z"
   },
   {
    "duration": 9,
    "start_time": "2022-05-02T08:40:40.134Z"
   },
   {
    "duration": 11,
    "start_time": "2022-05-02T08:40:40.144Z"
   },
   {
    "duration": 15,
    "start_time": "2022-05-02T08:40:40.157Z"
   },
   {
    "duration": 3,
    "start_time": "2022-05-02T08:40:40.174Z"
   },
   {
    "duration": 14,
    "start_time": "2022-05-02T08:40:40.179Z"
   },
   {
    "duration": 42,
    "start_time": "2022-05-02T08:40:40.194Z"
   },
   {
    "duration": 99,
    "start_time": "2022-05-02T08:40:40.240Z"
   },
   {
    "duration": 4,
    "start_time": "2022-05-02T08:40:40.341Z"
   },
   {
    "duration": 5,
    "start_time": "2022-05-02T08:40:40.347Z"
   },
   {
    "duration": 12,
    "start_time": "2022-05-02T08:40:40.353Z"
   },
   {
    "duration": 75,
    "start_time": "2022-05-02T08:40:40.367Z"
   },
   {
    "duration": 91,
    "start_time": "2022-05-02T08:40:40.444Z"
   },
   {
    "duration": 4,
    "start_time": "2022-05-02T08:40:40.537Z"
   },
   {
    "duration": 7,
    "start_time": "2022-05-02T08:40:40.543Z"
   },
   {
    "duration": 9,
    "start_time": "2022-05-02T08:40:40.552Z"
   },
   {
    "duration": 5,
    "start_time": "2022-05-02T08:40:40.562Z"
   },
   {
    "duration": 7,
    "start_time": "2022-05-02T08:40:40.568Z"
   },
   {
    "duration": 5,
    "start_time": "2022-05-02T08:40:40.576Z"
   },
   {
    "duration": 8,
    "start_time": "2022-05-02T08:40:40.582Z"
   },
   {
    "duration": 5,
    "start_time": "2022-05-02T08:40:40.592Z"
   },
   {
    "duration": 36,
    "start_time": "2022-05-02T08:40:40.598Z"
   },
   {
    "duration": 7,
    "start_time": "2022-05-02T08:40:40.636Z"
   },
   {
    "duration": 7,
    "start_time": "2022-05-02T08:40:40.645Z"
   },
   {
    "duration": 8,
    "start_time": "2022-05-02T08:40:40.654Z"
   },
   {
    "duration": 7,
    "start_time": "2022-05-02T08:40:40.663Z"
   },
   {
    "duration": 1575,
    "start_time": "2022-05-02T08:41:02.844Z"
   },
   {
    "duration": 132,
    "start_time": "2022-05-02T08:41:07.656Z"
   },
   {
    "duration": 17,
    "start_time": "2022-05-02T08:41:08.391Z"
   },
   {
    "duration": 15,
    "start_time": "2022-05-02T08:41:09.084Z"
   },
   {
    "duration": 116,
    "start_time": "2022-05-02T08:41:11.397Z"
   },
   {
    "duration": 14,
    "start_time": "2022-05-02T08:41:12.093Z"
   },
   {
    "duration": 118,
    "start_time": "2022-05-02T08:41:14.785Z"
   },
   {
    "duration": 14,
    "start_time": "2022-05-02T08:41:15.485Z"
   },
   {
    "duration": 3,
    "start_time": "2022-05-02T08:41:19.181Z"
   },
   {
    "duration": 15,
    "start_time": "2022-05-02T08:41:24.608Z"
   },
   {
    "duration": 4,
    "start_time": "2022-05-02T08:41:26.577Z"
   },
   {
    "duration": 3,
    "start_time": "2022-05-02T08:41:28.140Z"
   },
   {
    "duration": 4,
    "start_time": "2022-05-02T08:41:28.867Z"
   },
   {
    "duration": 4,
    "start_time": "2022-05-02T08:41:29.415Z"
   },
   {
    "duration": 3,
    "start_time": "2022-05-02T08:41:31.591Z"
   },
   {
    "duration": 14,
    "start_time": "2022-05-02T08:41:32.006Z"
   },
   {
    "duration": 9,
    "start_time": "2022-05-02T08:41:32.720Z"
   },
   {
    "duration": 5,
    "start_time": "2022-05-02T08:41:33.726Z"
   },
   {
    "duration": 4,
    "start_time": "2022-05-02T08:41:34.807Z"
   },
   {
    "duration": 446,
    "start_time": "2022-05-02T08:41:35.390Z"
   },
   {
    "duration": 5,
    "start_time": "2022-05-02T08:41:36.866Z"
   },
   {
    "duration": 140,
    "start_time": "2022-05-02T08:41:37.483Z"
   },
   {
    "duration": 15,
    "start_time": "2022-05-02T08:41:39.902Z"
   },
   {
    "duration": 2,
    "start_time": "2022-05-02T08:41:40.382Z"
   },
   {
    "duration": 13,
    "start_time": "2022-05-02T08:41:40.839Z"
   },
   {
    "duration": 8,
    "start_time": "2022-05-02T08:41:41.412Z"
   },
   {
    "duration": 5,
    "start_time": "2022-05-02T08:41:42.436Z"
   },
   {
    "duration": 4,
    "start_time": "2022-05-02T08:41:43.172Z"
   },
   {
    "duration": 5,
    "start_time": "2022-05-02T08:41:44.284Z"
   },
   {
    "duration": 14,
    "start_time": "2022-05-02T08:41:46.586Z"
   },
   {
    "duration": 2,
    "start_time": "2022-05-02T08:41:47.899Z"
   },
   {
    "duration": 12,
    "start_time": "2022-05-02T08:41:48.353Z"
   },
   {
    "duration": 6,
    "start_time": "2022-05-02T08:41:48.613Z"
   },
   {
    "duration": 5,
    "start_time": "2022-05-02T08:41:48.833Z"
   },
   {
    "duration": 4,
    "start_time": "2022-05-02T08:41:49.065Z"
   },
   {
    "duration": 4,
    "start_time": "2022-05-02T08:41:49.390Z"
   },
   {
    "duration": 12,
    "start_time": "2022-05-02T08:41:50.146Z"
   },
   {
    "duration": 2,
    "start_time": "2022-05-02T08:41:54.853Z"
   },
   {
    "duration": 2,
    "start_time": "2022-05-02T08:41:55.559Z"
   },
   {
    "duration": 2,
    "start_time": "2022-05-02T08:41:56.111Z"
   },
   {
    "duration": 2,
    "start_time": "2022-05-02T08:41:56.632Z"
   },
   {
    "duration": 4,
    "start_time": "2022-05-02T08:41:57.794Z"
   },
   {
    "duration": 2,
    "start_time": "2022-05-02T08:41:58.247Z"
   },
   {
    "duration": 4,
    "start_time": "2022-05-02T08:41:59.753Z"
   },
   {
    "duration": 2,
    "start_time": "2022-05-02T08:42:00.991Z"
   },
   {
    "duration": 6,
    "start_time": "2022-05-02T08:42:01.955Z"
   },
   {
    "duration": 6,
    "start_time": "2022-05-02T08:42:04.205Z"
   },
   {
    "duration": 6,
    "start_time": "2022-05-02T08:42:04.820Z"
   },
   {
    "duration": 7,
    "start_time": "2022-05-02T08:42:06.076Z"
   },
   {
    "duration": 5,
    "start_time": "2022-05-02T08:42:06.729Z"
   },
   {
    "duration": 6,
    "start_time": "2022-05-02T08:42:07.275Z"
   },
   {
    "duration": 3,
    "start_time": "2022-05-02T08:42:10.561Z"
   }
  ],
  "kernelspec": {
   "display_name": "Python 3 (ipykernel)",
   "language": "python",
   "name": "python3"
  },
  "language_info": {
   "codemirror_mode": {
    "name": "ipython",
    "version": 3
   },
   "file_extension": ".py",
   "mimetype": "text/x-python",
   "name": "python",
   "nbconvert_exporter": "python",
   "pygments_lexer": "ipython3",
   "version": "3.9.7"
  },
  "toc": {
   "base_numbering": 1,
   "nav_menu": {},
   "number_sections": true,
   "sideBar": true,
   "skip_h1_title": true,
   "title_cell": "Table of Contents",
   "title_sidebar": "Contents",
   "toc_cell": true,
   "toc_position": {
    "height": "calc(100% - 180px)",
    "left": "10px",
    "top": "150px",
    "width": "253.198px"
   },
   "toc_section_display": true,
   "toc_window_display": true
  }
 },
 "nbformat": 4,
 "nbformat_minor": 5
}
